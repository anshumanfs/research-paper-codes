{
 "cells": [
  {
   "cell_type": "code",
   "execution_count": null,
   "id": "7c5e119d",
   "metadata": {},
   "outputs": [],
   "source": [
    "import pandas as pd\n",
    "import scipy.stats as stats"
   ]
  },
  {
   "cell_type": "code",
   "execution_count": null,
   "id": "e44abfee",
   "metadata": {},
   "outputs": [],
   "source": [
    "gmm_data = pd.read_csv(\"gmm-3-7-5000.csv\")\n",
    "gmm_data.head()"
   ]
  },
  {
   "cell_type": "code",
   "execution_count": null,
   "id": "5a77f37e",
   "metadata": {},
   "outputs": [],
   "source": [
    "gmm_train_data = pd.read_csv(\"train_df.csv\")\n",
    "gmm_train_data.head()"
   ]
  },
  {
   "cell_type": "code",
   "execution_count": null,
   "id": "dc7c731f",
   "metadata": {},
   "outputs": [],
   "source": [
    "# distrbution of original and gmm data\n",
    "for column in gmm_train_data.columns:\n",
    "    stat, p_value = stats.ks_2samp(gmm_train_data[column], gmm_data[column])\n",
    "    print(f\"KS test for {column}: statistic={stat}, p-value={p_value}\")\n",
    "    if p_value > 0.05:\n",
    "        print(f\"The distributions of {column} are similar (fail to reject H0)\")\n",
    "    else:\n",
    "        print(f\"The distributions of {column} are different (reject H0)\")"
   ]
  }
 ],
 "metadata": {
  "language_info": {
   "name": "python"
  }
 },
 "nbformat": 4,
 "nbformat_minor": 5
}
